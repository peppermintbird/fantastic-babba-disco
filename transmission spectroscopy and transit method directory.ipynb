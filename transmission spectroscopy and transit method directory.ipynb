{
 "cells": [
  {
   "cell_type": "markdown",
   "metadata": {},
   "source": [
    "<h2> Learning log directory</h2>\n",
    "\n",
    "### Transit Method and Transmission Spectroscopy\n",
    "\n",
    "> **TRANSIT METHOD**\n",
    "\n",
    "When an exoplanet passes in front of its host star (again, transits), it blocks a portion of the star's light, causing a temporary decrease in brightness — similar to an eclypse. This dip in brightness is recorded as a characteristic pattern in the light curve.\n",
    "\n",
    "<video src=\"https://github.com/peppermintbird/nabs-prototype/assets/148541376/4708d5fb-552c-4296-9e24-22e82cf3accb\">\n",
    "</video>\n",
    "<p>Source: https://exoplanets.nasa.gov/alien-worlds/ways-to-find-a-planet/#/2</p>\n",
    "\n",
    "</br>\n",
    "\n",
    "> **TRANSMISSION SPECTROSCOPY**\n",
    "<div center=\"center\">\n",
    "  <img src=\"https://github.com/peppermintbird/learning-log/assets/148541376/32562d4d-0e05-45a0-b65c-397ba66caf47\" style=\"width: 70%\">\n",
    "  <p>Source: <a href=\"https://webbtelescope.org/contents/articles/spectroscopy-101--types-of-spectra-and-spectroscopy#:~:text=Transmission%20spectroscopy%20is%20used%20to,Hustak%20(STScI).\">Spectroscopy 101 – Types of Spectra and Spectroscopy | Webb Space Telescope</a></p>\n",
    "</div>\n",
    "\n",
    "\n",
    "\n",
    "\n",
    "#### Transit Method:\n",
    "\n",
    "1. **Sources:**\n",
    "   - NASA - Exoplanets: [What's a transit?](https://exoplanets.nasa.gov/faq/31/whats-a-transit/) - Information on the transit method and its significance in exoplanet research.\n",
    "   - The Planetary Society: [Transit Method](https://www.planetary.org/articles/down-in-front-the-transit-photometry-method) - Overview of the transit method explained by The Planetary Society.\n",
    "   - Caltech/IPAC/NASA Exoplanet Archive: [Transit Observations](https://exoplanetarchive.ipac.caltech.edu/) - A comprehensive resource on transit observations of exoplanets, including tutorials, data access, and analysis tools.\n",
    "   \n",
    "\n",
    "2. **Interactive Sources:**\n",
    "   - Exoplanet Transit Simulator: [University of Nebraska-Lincoln](https://astro.unl.edu/naap/esp/animations/transitSimulator.html) - Interactive tool allowing users to simulate exoplanet transits and understand the associated light curve.\n",
    "   - NASA's Eyes on Exoplanets: [Transit Tracks](https://eyes.nasa.gov/apps/exo/#/) - Interactive visualization tool for exploring exoplanet transits within the Milky Way galaxy.\n",
    "\n",
    "3. **Videos:**\n",
    "   - Space Telescope Science Institute: [How Do We Find Exoplanets?](https://www.youtube.com/watch?v=fjd8I_cXUBE&t=39s) - An animated video explaining various methods of exoplanet detection, including the transit method.\n",
    "   - CrashCourse: [Exoplanets](https://www.pbslearningmedia.org/resource/astronomy-exoplanets-crashcourse-1027/exoplanets-crash-course-astronomy/) - Educational video discussing the history of transit observations and how they contribute to our understanding of exoplanets.\n",
    "\n",
    "4. **Papers:**\n",
    "   - Exoplanet Transit Method: [Winn, Joshua N. \"Transits and Occultations.\" arXiv preprint arXiv:1001.2010 (2010).](https://arxiv.org/abs/1001.2010) - A comprehensive review of the transit method, its principles, applications, and advancements in exoplanet research.\n",
    "\n",
    "#### Transmission Spectroscopy:\n",
    "\n",
    "1. **Sources:**\n",
    "   - Medium - Jovian Explorer: [Transmission Spectroscopy of Exoplanets](https://jovian-explorer.medium.com/transmission-spectroscopy-of-exoplanets-2b3eaab26864) - Overview of transmission spectroscopy and its importance in exoplanet atmosphere characterization.\n",
    "   - Nature Portfolio | Astronomy: [Transmission Spectroscopy of Exoplanets](https://www.nature.com/subjects/exoplanets#:~:text=The%20study%20demonstrates%2C%20through%20planet%20formation%20and,the%20star%2C%20where%20they%20become%20steam%20worlds.) - Articles discussing recent advancements in exoplanet science.\n",
    "\n",
    "2. **Interactive Sources:**\n",
    "   - University of Washington: [VPL Spectral Explorer](https://vpl.uw.edu/models/vpl-spectral-explorer-tutorial/) - Interactive tool allowing users to explore spectral data of exoplanets and understand the features observed.\n",
    "\n"
   ]
  }
 ],
 "metadata": {
  "kernelspec": {
   "display_name": "Python 3",
   "language": "python",
   "name": "python3"
  },
  "language_info": {
   "name": "python",
   "version": "3.10.4"
  }
 },
 "nbformat": 4,
 "nbformat_minor": 2
}
