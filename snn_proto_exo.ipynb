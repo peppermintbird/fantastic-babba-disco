{
  "nbformat": 4,
  "nbformat_minor": 0,
  "metadata": {
    "colab": {
      "provenance": [],
      "toc_visible": true,
      "mount_file_id": "1ApkctSJPWFx1KZuB0M_-N7GeajLuFz9X",
      "authorship_tag": "ABX9TyPLZqtpBGoAyftfUBuD5mq6",
      "include_colab_link": true
    },
    "kernelspec": {
      "name": "python3",
      "display_name": "Python 3"
    },
    "language_info": {
      "name": "python"
    }
  },
  "cells": [
    {
      "cell_type": "markdown",
      "metadata": {
        "id": "view-in-github",
        "colab_type": "text"
      },
      "source": [
        "<a href=\"https://colab.research.google.com/github/peppermintbird/nabs-prototype/blob/main/snn_proto_exo.ipynb\" target=\"_parent\"><img src=\"https://colab.research.google.com/assets/colab-badge.svg\" alt=\"Open In Colab\"/></a>"
      ]
    },
    {
      "cell_type": "markdown",
      "source": [
        "### Note and objective"
      ],
      "metadata": {
        "id": "D9ysFZoWIBNI"
      }
    },
    {
      "cell_type": "markdown",
      "source": [
        "This notebook is a compendium of snnTorch's tutorials, Kaggle's competition datasets, and my own coding, notes, and experiments.  "
      ],
      "metadata": {
        "id": "Lh3lVSi1c6aI"
      }
    },
    {
      "cell_type": "markdown",
      "source": [
        "However, the main structure of this model is from [snnTorch's dataset tutorial series: Exoplanet Hunter](https://snntorch.readthedocs.io/en/latest/tutorials/tutorial_exoplanet_hunter.html), written by Ruhai Lin, Aled dela Cruz, and Karina Aguilar."
      ],
      "metadata": {
        "id": "w9YnK1q5IT5W"
      }
    },
    {
      "cell_type": "markdown",
      "source": [
        "Here, I aim to provide a simple overview of how SNN can serve as an architecture for an exoplanet detection deep learning model. I'll then explain how the code relates to the data analysis.\n",
        "\n"
      ],
      "metadata": {
        "id": "FiX_1XS4Fop3"
      }
    },
    {
      "cell_type": "markdown",
      "source": [
        "---"
      ],
      "metadata": {
        "id": "6vsREDL1-SfU"
      }
    },
    {
      "cell_type": "markdown",
      "source": [
        "### Data source"
      ],
      "metadata": {
        "id": "H_nWUpb7-VhH"
      }
    },
    {
      "cell_type": "markdown",
      "source": [
        "In the context of promising space missions like NASA's Kepler and TESS missions, there were three main types of astronomical observation data—target pixel files, light curves, and tabular stellar information.\n"
      ],
      "metadata": {
        "id": "f14sY7lm-a72"
      }
    },
    {
      "cell_type": "markdown",
      "source": [
        "In this small model, because of time and resources constraints, we will use light curve data from the Kepler space telescope that was cleaned and orginized in this [Kaggle](https://www.kaggle.com/datasets/keplersmachines/kepler-labelled-time-series-data) dataset."
      ],
      "metadata": {
        "id": "0D3l7nXI_mBc"
      }
    },
    {
      "cell_type": "markdown",
      "source": [
        "Kepler was a space telescope mission launched by NASA with the specially designed to discover Earth-sized exoplanets orbiting other stars in the Milky Way within their habitable zones.\n"
      ],
      "metadata": {
        "id": "blxm5g6jCJnV"
      }
    },
    {
      "cell_type": "markdown",
      "source": [
        "It operated from 2009 to 2018. Kepler used the transit method to detect exoplanets, providing a dataset of photometric time series data for numerous stars. This data, which has already been denoised and cleaned of artifacts, is publicly available in the [Mikulski Archive](https://archive.stsci.edu/missions-and-data/kepler) and in the [NASA Exoplanet Archive](https://exoplanetarchive.ipac.caltech.edu/docs/KeplerMission.html)."
      ],
      "metadata": {
        "id": "MVGM6GBPtPFq"
      }
    },
    {
      "cell_type": "markdown",
      "source": [
        "> **Acknowledging limitations**\n",
        "\n",
        "- Kepler primarily provides photometric measurements (brightness) rather than detailed spectral information.\n",
        "- Since Kepler has a **large** dataset, preprocessing and cleaning the data is a challenge within this project’s constraints. In this model, I’m using WΔ's cleaned dataset, which is hosted on [Kaggle](https://www.kaggle.com/datasets/keplersmachines/kepler-labelled-time-series-data/data). There is also more information on WΔ’s [GitHub repository](https://github.com/winterdelta/KeplerAI).\n",
        "- According to WΔ, Kepler's Campaign 3 data is utilized to focus on a subset of data considered to be of higher reliability. Even so, it is unclear what selection criteria or processing steps WΔ applies to the dataset curation.\n"
      ],
      "metadata": {
        "id": "5YJvuvD1EiwM"
      }
    },
    {
      "cell_type": "markdown",
      "source": [
        "---"
      ],
      "metadata": {
        "id": "RTJN9WrT-jL6"
      }
    },
    {
      "cell_type": "markdown",
      "source": [
        "### Data setup and preprocessing"
      ],
      "metadata": {
        "id": "9W_ySf8jDiCY"
      }
    },
    {
      "cell_type": "markdown",
      "source": [
        "First of all, ensure you have the needed requirements to use snnTorch. [By following PyPi's latest version of snnTorch](https://pypi.org/project/snntorch/), you should find a quick start in how to setup the package."
      ],
      "metadata": {
        "id": "hMF-6lpqZUuQ"
      }
    },
    {
      "cell_type": "markdown",
      "source": [
        "* Install or collect the following packages and libraries; ignore those you already have installed. Optionally, add the `--quiet` flag to avoid cumbersome output messages."
      ],
      "metadata": {
        "id": "StEYromq4qDJ"
      }
    },
    {
      "cell_type": "code",
      "source": [
        "!pip install snntorch\n",
        "!pip install torch\n",
        "!pip install imblearn\n",
        "!pip install torchvision\n",
        "!pip install matplotlib\n",
        "!pip install numpy\n",
        "!pip install pandas\n",
        "!pip install seaborn\n",
        "!pip install plotly.express\n",
        "\n"
      ],
      "metadata": {
        "id": "8TWsOdSE3j1f"
      },
      "execution_count": null,
      "outputs": []
    },
    {
      "cell_type": "markdown",
      "source": [
        "* Now import those packages."
      ],
      "metadata": {
        "id": "WtutQIg85ViT"
      }
    },
    {
      "cell_type": "code",
      "source": [
        "# importing snnTorch\n",
        "import snntorch as snn\n",
        "from snntorch import surrogate\n",
        "\n",
        "# setting pyTorch\n",
        "import torch\n",
        "import torch.nn as nn\n",
        "import torch.optim as optim\n",
        "import torch.nn.functional as F\n",
        "from torch.utils.data import DataLoader, Dataset\n",
        "from torchvision import transforms\n",
        "\n",
        "# SMOTE (oversampling to balance the dataset)\n",
        "from imblearn.over_sampling import SMOTE\n",
        "from collections import Counter\n",
        "\n",
        "# plot\n",
        "import matplotlib.pyplot as plt\n",
        "import numpy as np\n",
        "import pandas as pd\n",
        "import seaborn as sns\n",
        "import plotly.express as px\n",
        "import plotly.graph_objects as go\n",
        "from plotly.subplots import make_subplots\n",
        "\n",
        "# metric (AUC, ROC, sensitivity & specificity)\n",
        "from sklearn.metrics import confusion_matrix\n",
        "from sklearn.metrics import roc_auc_score\n"
      ],
      "metadata": {
        "id": "wPKjKEKAyN0t"
      },
      "execution_count": null,
      "outputs": []
    },
    {
      "cell_type": "markdown",
      "source": [
        "* Download the dataset from [Kaggle](https://www.kaggle.com/datasets/keplersmachines/kepler-labelled-time-series-data/data) and then export it to Google Drive if you're using Google Colab. To ensure your files are accessible on Google Colab, mount them at `/content/drive` to connect your Drive to Google Colab.\n",
        "\n",
        "  * For this small project we will use tested datasets:\n",
        "    1. `exoTest.csv`\n",
        "    2. `exoTrain.csv`"
      ],
      "metadata": {
        "id": "eCUjdcZD5_4T"
      }
    },
    {
      "cell_type": "code",
      "execution_count": null,
      "metadata": {
        "colab": {
          "base_uri": "https://localhost:8080/"
        },
        "id": "VK2uXgD_wwXl",
        "outputId": "84a21b11-316b-47e4-aeef-6c58a200f339"
      },
      "outputs": [
        {
          "output_type": "stream",
          "name": "stdout",
          "text": [
            "Drive already mounted at /content/drive; to attempt to forcibly remount, call drive.mount(\"/content/drive\", force_remount=True).\n"
          ]
        }
      ],
      "source": [
        "from google.colab import drive\n",
        "drive.mount('/content/drive')"
      ]
    },
    {
      "cell_type": "code",
      "source": [
        "%cd '/content/drive/MyDrive/SNN'\n",
        "\n"
      ],
      "metadata": {
        "colab": {
          "base_uri": "https://localhost:8080/"
        },
        "id": "CMv3ZzpR-MuZ",
        "outputId": "410bd186-23a8-49df-fcd6-0a0d20b7c20f"
      },
      "execution_count": null,
      "outputs": [
        {
          "output_type": "stream",
          "name": "stdout",
          "text": [
            "/content/drive/MyDrive/SNN\n"
          ]
        }
      ]
    },
    {
      "cell_type": "markdown",
      "source": [
        "Just to be _sure_, let's see if the files can indeed be found."
      ],
      "metadata": {
        "id": "bzBUP_iqCnsb"
      }
    },
    {
      "cell_type": "code",
      "source": [
        "!ls exoTest.csv exoTrain.csv"
      ],
      "metadata": {
        "colab": {
          "base_uri": "https://localhost:8080/"
        },
        "id": "gE9MpoFLCdza",
        "outputId": "594aab9a-5d10-4fe4-d111-edc6e184af64"
      },
      "execution_count": null,
      "outputs": [
        {
          "output_type": "stream",
          "name": "stdout",
          "text": [
            "exoTest.csv  exoTrain.csv\n"
          ]
        }
      ]
    },
    {
      "cell_type": "markdown",
      "source": [
        "- The next step is optional, but I think it's good if you didn't get to understand the data you're handling."
      ],
      "metadata": {
        "id": "ulVjrzCVERYv"
      }
    },
    {
      "cell_type": "markdown",
      "source": [
        "> **Reminder:**\n",
        "\n",
        "Var 1 = Contain the label attribute stating:\n",
        "      \n",
        "  - 1 = not exoplanet\n",
        "\n",
        "  - 2 = exoplanet\n",
        "\n",
        " If 1 and 2 are somewhat inconvenient, don't worry, we will change these label values into more intuitive ones, like 0 and 1.\n",
        "\n",
        "\n",
        "Var 2 - 3098 = Contain the flux values measured at different points in time."
      ],
      "metadata": {
        "id": "jw22l2nZGh4S"
      }
    },
    {
      "cell_type": "markdown",
      "source": [
        "* Read your datasets by stating:   "
      ],
      "metadata": {
        "id": "LNEKWG47E246"
      }
    },
    {
      "cell_type": "code",
      "source": [
        "exoTest = pd.read_csv('/content/drive/MyDrive/SNN/exoTest.csv')\n",
        "exoTrain = pd.read_csv('/content/drive/MyDrive/SNN/exoTrain.csv')\n",
        "\n",
        "exoTest.tail(10) # you can input here the number of rows you wish to peruse"
      ],
      "metadata": {
        "colab": {
          "base_uri": "https://localhost:8080/",
          "height": 412
        },
        "id": "Ey5TdBKHFYWQ",
        "outputId": "f200b757-e251-4e80-c5f3-a8f1860a043e"
      },
      "execution_count": null,
      "outputs": [
        {
          "output_type": "execute_result",
          "data": {
            "text/plain": [
              "     LABEL   FLUX.1   FLUX.2   FLUX.3   FLUX.4   FLUX.5   FLUX.6   FLUX.7  \\\n",
              "560      1     5.66     7.83    -4.39    -0.62    -5.23     0.34   -13.64   \n",
              "561      1     4.36     2.22     5.61    -1.44    -0.05    -0.22     1.28   \n",
              "562      1   -79.95   -79.13   -81.07   -72.25   -79.71   -70.60   -90.33   \n",
              "563      1   -63.42   -59.78   -64.16   -61.07   -41.74   -58.99   -35.94   \n",
              "564      1   144.47    20.09   147.47   109.18   100.87    24.87   115.03   \n",
              "565      1   374.46   326.06   319.87   338.23   251.54   209.84   186.35   \n",
              "566      1    -0.36     4.96     6.25     4.20     8.26    -9.53   -10.10   \n",
              "567      1   -54.01   -44.13   -41.23   -42.82   -39.47   -24.88   -31.14   \n",
              "568      1    91.36    85.60    48.81    48.69    70.05    22.30    11.63   \n",
              "569      1  3071.19  2782.53  2608.69  2325.47  2089.37  1769.56  1421.09   \n",
              "\n",
              "      FLUX.8  FLUX.9  ...  FLUX.3188  FLUX.3189  FLUX.3190  FLUX.3191  \\\n",
              "560   -11.26   -9.96  ...      15.15      24.89      23.41      26.33   \n",
              "561   -13.20   -5.83  ...       2.94      -2.90       2.12      11.26   \n",
              "562   -88.66  -68.15  ...       5.40      19.51      -0.15       1.67   \n",
              "563   -43.15  -24.87  ...     -13.98       0.62      -5.53     -14.26   \n",
              "564   106.37   48.87  ...     -57.53     -41.94    -165.94    -265.13   \n",
              "565   167.46  135.45  ...    -123.55    -166.90    -222.44    -209.71   \n",
              "566    -4.54  -11.55  ...     -12.40      -5.99     -17.94     -11.96   \n",
              "567   -24.71  -13.12  ...      -0.73      -1.64       1.58      -4.82   \n",
              "568    37.86   28.27  ...       2.44      11.53     -16.42     -17.86   \n",
              "569  1142.09  902.31  ...     695.41     865.97     882.41    1203.06   \n",
              "\n",
              "     FLUX.3192  FLUX.3193  FLUX.3194  FLUX.3195  FLUX.3196  FLUX.3197  \n",
              "560      44.37      46.15      37.28      45.60      41.66      39.35  \n",
              "561      12.81       6.03      -6.13     -10.46      -5.36     -14.23  \n",
              "562       3.20       7.25      -8.25      -7.91       4.45       6.58  \n",
              "563     -23.69     -37.84      -2.37       6.62      12.02       2.33  \n",
              "564    -263.35    -376.53    -176.22    -152.07    -216.60    -202.97  \n",
              "565    -180.16    -166.83    -235.66    -213.63    -205.99    -194.07  \n",
              "566     -12.11     -13.68      -3.59      -5.32     -10.98     -11.24  \n",
              "567     -11.93     -17.14      -4.25       5.47      14.46      18.70  \n",
              "568      21.10     -10.25     -37.06      -8.43      -6.48      17.60  \n",
              "569    1293.03    1354.41    -192.81    -277.22     -69.63     121.56  \n",
              "\n",
              "[10 rows x 3198 columns]"
            ],
            "text/html": [
              "\n",
              "  <div id=\"df-19ed28f1-fca9-4a0f-9dc7-28668b4e7275\" class=\"colab-df-container\">\n",
              "    <div>\n",
              "<style scoped>\n",
              "    .dataframe tbody tr th:only-of-type {\n",
              "        vertical-align: middle;\n",
              "    }\n",
              "\n",
              "    .dataframe tbody tr th {\n",
              "        vertical-align: top;\n",
              "    }\n",
              "\n",
              "    .dataframe thead th {\n",
              "        text-align: right;\n",
              "    }\n",
              "</style>\n",
              "<table border=\"1\" class=\"dataframe\">\n",
              "  <thead>\n",
              "    <tr style=\"text-align: right;\">\n",
              "      <th></th>\n",
              "      <th>LABEL</th>\n",
              "      <th>FLUX.1</th>\n",
              "      <th>FLUX.2</th>\n",
              "      <th>FLUX.3</th>\n",
              "      <th>FLUX.4</th>\n",
              "      <th>FLUX.5</th>\n",
              "      <th>FLUX.6</th>\n",
              "      <th>FLUX.7</th>\n",
              "      <th>FLUX.8</th>\n",
              "      <th>FLUX.9</th>\n",
              "      <th>...</th>\n",
              "      <th>FLUX.3188</th>\n",
              "      <th>FLUX.3189</th>\n",
              "      <th>FLUX.3190</th>\n",
              "      <th>FLUX.3191</th>\n",
              "      <th>FLUX.3192</th>\n",
              "      <th>FLUX.3193</th>\n",
              "      <th>FLUX.3194</th>\n",
              "      <th>FLUX.3195</th>\n",
              "      <th>FLUX.3196</th>\n",
              "      <th>FLUX.3197</th>\n",
              "    </tr>\n",
              "  </thead>\n",
              "  <tbody>\n",
              "    <tr>\n",
              "      <th>560</th>\n",
              "      <td>1</td>\n",
              "      <td>5.66</td>\n",
              "      <td>7.83</td>\n",
              "      <td>-4.39</td>\n",
              "      <td>-0.62</td>\n",
              "      <td>-5.23</td>\n",
              "      <td>0.34</td>\n",
              "      <td>-13.64</td>\n",
              "      <td>-11.26</td>\n",
              "      <td>-9.96</td>\n",
              "      <td>...</td>\n",
              "      <td>15.15</td>\n",
              "      <td>24.89</td>\n",
              "      <td>23.41</td>\n",
              "      <td>26.33</td>\n",
              "      <td>44.37</td>\n",
              "      <td>46.15</td>\n",
              "      <td>37.28</td>\n",
              "      <td>45.60</td>\n",
              "      <td>41.66</td>\n",
              "      <td>39.35</td>\n",
              "    </tr>\n",
              "    <tr>\n",
              "      <th>561</th>\n",
              "      <td>1</td>\n",
              "      <td>4.36</td>\n",
              "      <td>2.22</td>\n",
              "      <td>5.61</td>\n",
              "      <td>-1.44</td>\n",
              "      <td>-0.05</td>\n",
              "      <td>-0.22</td>\n",
              "      <td>1.28</td>\n",
              "      <td>-13.20</td>\n",
              "      <td>-5.83</td>\n",
              "      <td>...</td>\n",
              "      <td>2.94</td>\n",
              "      <td>-2.90</td>\n",
              "      <td>2.12</td>\n",
              "      <td>11.26</td>\n",
              "      <td>12.81</td>\n",
              "      <td>6.03</td>\n",
              "      <td>-6.13</td>\n",
              "      <td>-10.46</td>\n",
              "      <td>-5.36</td>\n",
              "      <td>-14.23</td>\n",
              "    </tr>\n",
              "    <tr>\n",
              "      <th>562</th>\n",
              "      <td>1</td>\n",
              "      <td>-79.95</td>\n",
              "      <td>-79.13</td>\n",
              "      <td>-81.07</td>\n",
              "      <td>-72.25</td>\n",
              "      <td>-79.71</td>\n",
              "      <td>-70.60</td>\n",
              "      <td>-90.33</td>\n",
              "      <td>-88.66</td>\n",
              "      <td>-68.15</td>\n",
              "      <td>...</td>\n",
              "      <td>5.40</td>\n",
              "      <td>19.51</td>\n",
              "      <td>-0.15</td>\n",
              "      <td>1.67</td>\n",
              "      <td>3.20</td>\n",
              "      <td>7.25</td>\n",
              "      <td>-8.25</td>\n",
              "      <td>-7.91</td>\n",
              "      <td>4.45</td>\n",
              "      <td>6.58</td>\n",
              "    </tr>\n",
              "    <tr>\n",
              "      <th>563</th>\n",
              "      <td>1</td>\n",
              "      <td>-63.42</td>\n",
              "      <td>-59.78</td>\n",
              "      <td>-64.16</td>\n",
              "      <td>-61.07</td>\n",
              "      <td>-41.74</td>\n",
              "      <td>-58.99</td>\n",
              "      <td>-35.94</td>\n",
              "      <td>-43.15</td>\n",
              "      <td>-24.87</td>\n",
              "      <td>...</td>\n",
              "      <td>-13.98</td>\n",
              "      <td>0.62</td>\n",
              "      <td>-5.53</td>\n",
              "      <td>-14.26</td>\n",
              "      <td>-23.69</td>\n",
              "      <td>-37.84</td>\n",
              "      <td>-2.37</td>\n",
              "      <td>6.62</td>\n",
              "      <td>12.02</td>\n",
              "      <td>2.33</td>\n",
              "    </tr>\n",
              "    <tr>\n",
              "      <th>564</th>\n",
              "      <td>1</td>\n",
              "      <td>144.47</td>\n",
              "      <td>20.09</td>\n",
              "      <td>147.47</td>\n",
              "      <td>109.18</td>\n",
              "      <td>100.87</td>\n",
              "      <td>24.87</td>\n",
              "      <td>115.03</td>\n",
              "      <td>106.37</td>\n",
              "      <td>48.87</td>\n",
              "      <td>...</td>\n",
              "      <td>-57.53</td>\n",
              "      <td>-41.94</td>\n",
              "      <td>-165.94</td>\n",
              "      <td>-265.13</td>\n",
              "      <td>-263.35</td>\n",
              "      <td>-376.53</td>\n",
              "      <td>-176.22</td>\n",
              "      <td>-152.07</td>\n",
              "      <td>-216.60</td>\n",
              "      <td>-202.97</td>\n",
              "    </tr>\n",
              "    <tr>\n",
              "      <th>565</th>\n",
              "      <td>1</td>\n",
              "      <td>374.46</td>\n",
              "      <td>326.06</td>\n",
              "      <td>319.87</td>\n",
              "      <td>338.23</td>\n",
              "      <td>251.54</td>\n",
              "      <td>209.84</td>\n",
              "      <td>186.35</td>\n",
              "      <td>167.46</td>\n",
              "      <td>135.45</td>\n",
              "      <td>...</td>\n",
              "      <td>-123.55</td>\n",
              "      <td>-166.90</td>\n",
              "      <td>-222.44</td>\n",
              "      <td>-209.71</td>\n",
              "      <td>-180.16</td>\n",
              "      <td>-166.83</td>\n",
              "      <td>-235.66</td>\n",
              "      <td>-213.63</td>\n",
              "      <td>-205.99</td>\n",
              "      <td>-194.07</td>\n",
              "    </tr>\n",
              "    <tr>\n",
              "      <th>566</th>\n",
              "      <td>1</td>\n",
              "      <td>-0.36</td>\n",
              "      <td>4.96</td>\n",
              "      <td>6.25</td>\n",
              "      <td>4.20</td>\n",
              "      <td>8.26</td>\n",
              "      <td>-9.53</td>\n",
              "      <td>-10.10</td>\n",
              "      <td>-4.54</td>\n",
              "      <td>-11.55</td>\n",
              "      <td>...</td>\n",
              "      <td>-12.40</td>\n",
              "      <td>-5.99</td>\n",
              "      <td>-17.94</td>\n",
              "      <td>-11.96</td>\n",
              "      <td>-12.11</td>\n",
              "      <td>-13.68</td>\n",
              "      <td>-3.59</td>\n",
              "      <td>-5.32</td>\n",
              "      <td>-10.98</td>\n",
              "      <td>-11.24</td>\n",
              "    </tr>\n",
              "    <tr>\n",
              "      <th>567</th>\n",
              "      <td>1</td>\n",
              "      <td>-54.01</td>\n",
              "      <td>-44.13</td>\n",
              "      <td>-41.23</td>\n",
              "      <td>-42.82</td>\n",
              "      <td>-39.47</td>\n",
              "      <td>-24.88</td>\n",
              "      <td>-31.14</td>\n",
              "      <td>-24.71</td>\n",
              "      <td>-13.12</td>\n",
              "      <td>...</td>\n",
              "      <td>-0.73</td>\n",
              "      <td>-1.64</td>\n",
              "      <td>1.58</td>\n",
              "      <td>-4.82</td>\n",
              "      <td>-11.93</td>\n",
              "      <td>-17.14</td>\n",
              "      <td>-4.25</td>\n",
              "      <td>5.47</td>\n",
              "      <td>14.46</td>\n",
              "      <td>18.70</td>\n",
              "    </tr>\n",
              "    <tr>\n",
              "      <th>568</th>\n",
              "      <td>1</td>\n",
              "      <td>91.36</td>\n",
              "      <td>85.60</td>\n",
              "      <td>48.81</td>\n",
              "      <td>48.69</td>\n",
              "      <td>70.05</td>\n",
              "      <td>22.30</td>\n",
              "      <td>11.63</td>\n",
              "      <td>37.86</td>\n",
              "      <td>28.27</td>\n",
              "      <td>...</td>\n",
              "      <td>2.44</td>\n",
              "      <td>11.53</td>\n",
              "      <td>-16.42</td>\n",
              "      <td>-17.86</td>\n",
              "      <td>21.10</td>\n",
              "      <td>-10.25</td>\n",
              "      <td>-37.06</td>\n",
              "      <td>-8.43</td>\n",
              "      <td>-6.48</td>\n",
              "      <td>17.60</td>\n",
              "    </tr>\n",
              "    <tr>\n",
              "      <th>569</th>\n",
              "      <td>1</td>\n",
              "      <td>3071.19</td>\n",
              "      <td>2782.53</td>\n",
              "      <td>2608.69</td>\n",
              "      <td>2325.47</td>\n",
              "      <td>2089.37</td>\n",
              "      <td>1769.56</td>\n",
              "      <td>1421.09</td>\n",
              "      <td>1142.09</td>\n",
              "      <td>902.31</td>\n",
              "      <td>...</td>\n",
              "      <td>695.41</td>\n",
              "      <td>865.97</td>\n",
              "      <td>882.41</td>\n",
              "      <td>1203.06</td>\n",
              "      <td>1293.03</td>\n",
              "      <td>1354.41</td>\n",
              "      <td>-192.81</td>\n",
              "      <td>-277.22</td>\n",
              "      <td>-69.63</td>\n",
              "      <td>121.56</td>\n",
              "    </tr>\n",
              "  </tbody>\n",
              "</table>\n",
              "<p>10 rows × 3198 columns</p>\n",
              "</div>\n",
              "    <div class=\"colab-df-buttons\">\n",
              "\n",
              "  <div class=\"colab-df-container\">\n",
              "    <button class=\"colab-df-convert\" onclick=\"convertToInteractive('df-19ed28f1-fca9-4a0f-9dc7-28668b4e7275')\"\n",
              "            title=\"Convert this dataframe to an interactive table.\"\n",
              "            style=\"display:none;\">\n",
              "\n",
              "  <svg xmlns=\"http://www.w3.org/2000/svg\" height=\"24px\" viewBox=\"0 -960 960 960\">\n",
              "    <path d=\"M120-120v-720h720v720H120Zm60-500h600v-160H180v160Zm220 220h160v-160H400v160Zm0 220h160v-160H400v160ZM180-400h160v-160H180v160Zm440 0h160v-160H620v160ZM180-180h160v-160H180v160Zm440 0h160v-160H620v160Z\"/>\n",
              "  </svg>\n",
              "    </button>\n",
              "\n",
              "  <style>\n",
              "    .colab-df-container {\n",
              "      display:flex;\n",
              "      gap: 12px;\n",
              "    }\n",
              "\n",
              "    .colab-df-convert {\n",
              "      background-color: #E8F0FE;\n",
              "      border: none;\n",
              "      border-radius: 50%;\n",
              "      cursor: pointer;\n",
              "      display: none;\n",
              "      fill: #1967D2;\n",
              "      height: 32px;\n",
              "      padding: 0 0 0 0;\n",
              "      width: 32px;\n",
              "    }\n",
              "\n",
              "    .colab-df-convert:hover {\n",
              "      background-color: #E2EBFA;\n",
              "      box-shadow: 0px 1px 2px rgba(60, 64, 67, 0.3), 0px 1px 3px 1px rgba(60, 64, 67, 0.15);\n",
              "      fill: #174EA6;\n",
              "    }\n",
              "\n",
              "    .colab-df-buttons div {\n",
              "      margin-bottom: 4px;\n",
              "    }\n",
              "\n",
              "    [theme=dark] .colab-df-convert {\n",
              "      background-color: #3B4455;\n",
              "      fill: #D2E3FC;\n",
              "    }\n",
              "\n",
              "    [theme=dark] .colab-df-convert:hover {\n",
              "      background-color: #434B5C;\n",
              "      box-shadow: 0px 1px 3px 1px rgba(0, 0, 0, 0.15);\n",
              "      filter: drop-shadow(0px 1px 2px rgba(0, 0, 0, 0.3));\n",
              "      fill: #FFFFFF;\n",
              "    }\n",
              "  </style>\n",
              "\n",
              "    <script>\n",
              "      const buttonEl =\n",
              "        document.querySelector('#df-19ed28f1-fca9-4a0f-9dc7-28668b4e7275 button.colab-df-convert');\n",
              "      buttonEl.style.display =\n",
              "        google.colab.kernel.accessAllowed ? 'block' : 'none';\n",
              "\n",
              "      async function convertToInteractive(key) {\n",
              "        const element = document.querySelector('#df-19ed28f1-fca9-4a0f-9dc7-28668b4e7275');\n",
              "        const dataTable =\n",
              "          await google.colab.kernel.invokeFunction('convertToInteractive',\n",
              "                                                    [key], {});\n",
              "        if (!dataTable) return;\n",
              "\n",
              "        const docLinkHtml = 'Like what you see? Visit the ' +\n",
              "          '<a target=\"_blank\" href=https://colab.research.google.com/notebooks/data_table.ipynb>data table notebook</a>'\n",
              "          + ' to learn more about interactive tables.';\n",
              "        element.innerHTML = '';\n",
              "        dataTable['output_type'] = 'display_data';\n",
              "        await google.colab.output.renderOutput(dataTable, element);\n",
              "        const docLink = document.createElement('div');\n",
              "        docLink.innerHTML = docLinkHtml;\n",
              "        element.appendChild(docLink);\n",
              "      }\n",
              "    </script>\n",
              "  </div>\n",
              "\n",
              "\n",
              "<div id=\"df-a6aaea6c-4b07-4b32-b63e-8de559c27fbe\">\n",
              "  <button class=\"colab-df-quickchart\" onclick=\"quickchart('df-a6aaea6c-4b07-4b32-b63e-8de559c27fbe')\"\n",
              "            title=\"Suggest charts\"\n",
              "            style=\"display:none;\">\n",
              "\n",
              "<svg xmlns=\"http://www.w3.org/2000/svg\" height=\"24px\"viewBox=\"0 0 24 24\"\n",
              "     width=\"24px\">\n",
              "    <g>\n",
              "        <path d=\"M19 3H5c-1.1 0-2 .9-2 2v14c0 1.1.9 2 2 2h14c1.1 0 2-.9 2-2V5c0-1.1-.9-2-2-2zM9 17H7v-7h2v7zm4 0h-2V7h2v10zm4 0h-2v-4h2v4z\"/>\n",
              "    </g>\n",
              "</svg>\n",
              "  </button>\n",
              "\n",
              "<style>\n",
              "  .colab-df-quickchart {\n",
              "      --bg-color: #E8F0FE;\n",
              "      --fill-color: #1967D2;\n",
              "      --hover-bg-color: #E2EBFA;\n",
              "      --hover-fill-color: #174EA6;\n",
              "      --disabled-fill-color: #AAA;\n",
              "      --disabled-bg-color: #DDD;\n",
              "  }\n",
              "\n",
              "  [theme=dark] .colab-df-quickchart {\n",
              "      --bg-color: #3B4455;\n",
              "      --fill-color: #D2E3FC;\n",
              "      --hover-bg-color: #434B5C;\n",
              "      --hover-fill-color: #FFFFFF;\n",
              "      --disabled-bg-color: #3B4455;\n",
              "      --disabled-fill-color: #666;\n",
              "  }\n",
              "\n",
              "  .colab-df-quickchart {\n",
              "    background-color: var(--bg-color);\n",
              "    border: none;\n",
              "    border-radius: 50%;\n",
              "    cursor: pointer;\n",
              "    display: none;\n",
              "    fill: var(--fill-color);\n",
              "    height: 32px;\n",
              "    padding: 0;\n",
              "    width: 32px;\n",
              "  }\n",
              "\n",
              "  .colab-df-quickchart:hover {\n",
              "    background-color: var(--hover-bg-color);\n",
              "    box-shadow: 0 1px 2px rgba(60, 64, 67, 0.3), 0 1px 3px 1px rgba(60, 64, 67, 0.15);\n",
              "    fill: var(--button-hover-fill-color);\n",
              "  }\n",
              "\n",
              "  .colab-df-quickchart-complete:disabled,\n",
              "  .colab-df-quickchart-complete:disabled:hover {\n",
              "    background-color: var(--disabled-bg-color);\n",
              "    fill: var(--disabled-fill-color);\n",
              "    box-shadow: none;\n",
              "  }\n",
              "\n",
              "  .colab-df-spinner {\n",
              "    border: 2px solid var(--fill-color);\n",
              "    border-color: transparent;\n",
              "    border-bottom-color: var(--fill-color);\n",
              "    animation:\n",
              "      spin 1s steps(1) infinite;\n",
              "  }\n",
              "\n",
              "  @keyframes spin {\n",
              "    0% {\n",
              "      border-color: transparent;\n",
              "      border-bottom-color: var(--fill-color);\n",
              "      border-left-color: var(--fill-color);\n",
              "    }\n",
              "    20% {\n",
              "      border-color: transparent;\n",
              "      border-left-color: var(--fill-color);\n",
              "      border-top-color: var(--fill-color);\n",
              "    }\n",
              "    30% {\n",
              "      border-color: transparent;\n",
              "      border-left-color: var(--fill-color);\n",
              "      border-top-color: var(--fill-color);\n",
              "      border-right-color: var(--fill-color);\n",
              "    }\n",
              "    40% {\n",
              "      border-color: transparent;\n",
              "      border-right-color: var(--fill-color);\n",
              "      border-top-color: var(--fill-color);\n",
              "    }\n",
              "    60% {\n",
              "      border-color: transparent;\n",
              "      border-right-color: var(--fill-color);\n",
              "    }\n",
              "    80% {\n",
              "      border-color: transparent;\n",
              "      border-right-color: var(--fill-color);\n",
              "      border-bottom-color: var(--fill-color);\n",
              "    }\n",
              "    90% {\n",
              "      border-color: transparent;\n",
              "      border-bottom-color: var(--fill-color);\n",
              "    }\n",
              "  }\n",
              "</style>\n",
              "\n",
              "  <script>\n",
              "    async function quickchart(key) {\n",
              "      const quickchartButtonEl =\n",
              "        document.querySelector('#' + key + ' button');\n",
              "      quickchartButtonEl.disabled = true;  // To prevent multiple clicks.\n",
              "      quickchartButtonEl.classList.add('colab-df-spinner');\n",
              "      try {\n",
              "        const charts = await google.colab.kernel.invokeFunction(\n",
              "            'suggestCharts', [key], {});\n",
              "      } catch (error) {\n",
              "        console.error('Error during call to suggestCharts:', error);\n",
              "      }\n",
              "      quickchartButtonEl.classList.remove('colab-df-spinner');\n",
              "      quickchartButtonEl.classList.add('colab-df-quickchart-complete');\n",
              "    }\n",
              "    (() => {\n",
              "      let quickchartButtonEl =\n",
              "        document.querySelector('#df-a6aaea6c-4b07-4b32-b63e-8de559c27fbe button');\n",
              "      quickchartButtonEl.style.display =\n",
              "        google.colab.kernel.accessAllowed ? 'block' : 'none';\n",
              "    })();\n",
              "  </script>\n",
              "</div>\n",
              "\n",
              "    </div>\n",
              "  </div>\n"
            ],
            "application/vnd.google.colaboratory.intrinsic+json": {
              "type": "dataframe"
            }
          },
          "metadata": {},
          "execution_count": 7
        }
      ]
    },
    {
      "cell_type": "code",
      "source": [
        "exoTrain.tail(10)"
      ],
      "metadata": {
        "colab": {
          "base_uri": "https://localhost:8080/",
          "height": 412
        },
        "id": "536YnynPGOMI",
        "outputId": "a822bb8a-96e0-4f95-bbfb-6234d95e78b3"
      },
      "execution_count": null,
      "outputs": [
        {
          "output_type": "execute_result",
          "data": {
            "text/plain": [
              "      LABEL  FLUX.1  FLUX.2  FLUX.3  FLUX.4  FLUX.5  FLUX.6  FLUX.7  FLUX.8  \\\n",
              "5077      1  125.57   78.69   98.29   91.16   78.42   45.82   61.69   22.73   \n",
              "5078      1    7.45   10.02    6.87   -2.82   -1.56   -4.30   -7.01   -6.97   \n",
              "5079      1  475.61  395.50  423.61  376.36  338.94  321.26  326.34  342.84   \n",
              "5080      1  -46.63  -55.39  -64.88  -88.75  -75.40  -64.06  -66.37  -41.95   \n",
              "5081      1  299.41  302.77  278.68  263.48  236.89  186.93  145.45  151.20   \n",
              "5082      1  -91.91  -92.97  -78.76  -97.33  -68.00  -68.24  -75.48  -49.25   \n",
              "5083      1  989.75  891.01  908.53  851.83  755.11  615.78  595.77  458.87   \n",
              "5084      1  273.39  278.00  261.73  236.99  280.73  264.90  252.92  254.88   \n",
              "5085      1    3.82    2.09   -3.29   -2.88    1.66   -0.75    3.85   -0.03   \n",
              "5086      1  323.28  306.36  293.16  287.67  249.89  218.30  188.86  178.93   \n",
              "\n",
              "      FLUX.9  ...  FLUX.3188  FLUX.3189  FLUX.3190  FLUX.3191  FLUX.3192  \\\n",
              "5077   39.09  ...      32.35      63.23      57.98      90.43     115.12   \n",
              "5078   -2.54  ...      -5.25      -8.56       0.53      -4.29      -6.60   \n",
              "5079  251.23  ...     543.25     453.87     344.35     266.16     242.18   \n",
              "5080  -68.07  ...      29.64       6.90      32.94      56.63      28.71   \n",
              "5081  123.38  ...    -126.36    -133.82    -134.02     -98.76    -106.60   \n",
              "5082  -30.92  ...     139.95     147.26     156.95     155.64     156.36   \n",
              "5083  492.84  ...     -26.50      -4.84     -76.30     -37.84    -153.83   \n",
              "5084  237.60  ...     -26.82     -53.89     -48.71      30.99      15.96   \n",
              "5085    3.28  ...      10.86      -3.23      -5.10      -4.61      -9.82   \n",
              "5086  118.93  ...      71.19       0.97      55.20      -1.63      -5.50   \n",
              "\n",
              "      FLUX.3193  FLUX.3194  FLUX.3195  FLUX.3196  FLUX.3197  \n",
              "5077     210.09       3.80      16.33      27.35      21.30  \n",
              "5078       8.75     -10.69      -9.54      -2.48      -8.69  \n",
              "5079     163.02      86.29      13.06     161.22     213.60  \n",
              "5080      28.82     -20.12     -14.41     -43.35     -30.04  \n",
              "5081     -74.95     -46.29      -3.08     -28.43     -48.68  \n",
              "5082     151.75     -24.45     -17.00       3.23      19.28  \n",
              "5083    -136.16      38.03     100.28     -45.64      35.58  \n",
              "5084      -3.47      65.73      88.42      79.07      79.43  \n",
              "5085      -1.50      -4.65     -14.55      -6.41      -2.55  \n",
              "5086     -25.33     -41.31     -16.72     -14.09      27.82  \n",
              "\n",
              "[10 rows x 3198 columns]"
            ],
            "text/html": [
              "\n",
              "  <div id=\"df-bc29d05d-2e58-4109-8be7-f9a1bf701f79\" class=\"colab-df-container\">\n",
              "    <div>\n",
              "<style scoped>\n",
              "    .dataframe tbody tr th:only-of-type {\n",
              "        vertical-align: middle;\n",
              "    }\n",
              "\n",
              "    .dataframe tbody tr th {\n",
              "        vertical-align: top;\n",
              "    }\n",
              "\n",
              "    .dataframe thead th {\n",
              "        text-align: right;\n",
              "    }\n",
              "</style>\n",
              "<table border=\"1\" class=\"dataframe\">\n",
              "  <thead>\n",
              "    <tr style=\"text-align: right;\">\n",
              "      <th></th>\n",
              "      <th>LABEL</th>\n",
              "      <th>FLUX.1</th>\n",
              "      <th>FLUX.2</th>\n",
              "      <th>FLUX.3</th>\n",
              "      <th>FLUX.4</th>\n",
              "      <th>FLUX.5</th>\n",
              "      <th>FLUX.6</th>\n",
              "      <th>FLUX.7</th>\n",
              "      <th>FLUX.8</th>\n",
              "      <th>FLUX.9</th>\n",
              "      <th>...</th>\n",
              "      <th>FLUX.3188</th>\n",
              "      <th>FLUX.3189</th>\n",
              "      <th>FLUX.3190</th>\n",
              "      <th>FLUX.3191</th>\n",
              "      <th>FLUX.3192</th>\n",
              "      <th>FLUX.3193</th>\n",
              "      <th>FLUX.3194</th>\n",
              "      <th>FLUX.3195</th>\n",
              "      <th>FLUX.3196</th>\n",
              "      <th>FLUX.3197</th>\n",
              "    </tr>\n",
              "  </thead>\n",
              "  <tbody>\n",
              "    <tr>\n",
              "      <th>5077</th>\n",
              "      <td>1</td>\n",
              "      <td>125.57</td>\n",
              "      <td>78.69</td>\n",
              "      <td>98.29</td>\n",
              "      <td>91.16</td>\n",
              "      <td>78.42</td>\n",
              "      <td>45.82</td>\n",
              "      <td>61.69</td>\n",
              "      <td>22.73</td>\n",
              "      <td>39.09</td>\n",
              "      <td>...</td>\n",
              "      <td>32.35</td>\n",
              "      <td>63.23</td>\n",
              "      <td>57.98</td>\n",
              "      <td>90.43</td>\n",
              "      <td>115.12</td>\n",
              "      <td>210.09</td>\n",
              "      <td>3.80</td>\n",
              "      <td>16.33</td>\n",
              "      <td>27.35</td>\n",
              "      <td>21.30</td>\n",
              "    </tr>\n",
              "    <tr>\n",
              "      <th>5078</th>\n",
              "      <td>1</td>\n",
              "      <td>7.45</td>\n",
              "      <td>10.02</td>\n",
              "      <td>6.87</td>\n",
              "      <td>-2.82</td>\n",
              "      <td>-1.56</td>\n",
              "      <td>-4.30</td>\n",
              "      <td>-7.01</td>\n",
              "      <td>-6.97</td>\n",
              "      <td>-2.54</td>\n",
              "      <td>...</td>\n",
              "      <td>-5.25</td>\n",
              "      <td>-8.56</td>\n",
              "      <td>0.53</td>\n",
              "      <td>-4.29</td>\n",
              "      <td>-6.60</td>\n",
              "      <td>8.75</td>\n",
              "      <td>-10.69</td>\n",
              "      <td>-9.54</td>\n",
              "      <td>-2.48</td>\n",
              "      <td>-8.69</td>\n",
              "    </tr>\n",
              "    <tr>\n",
              "      <th>5079</th>\n",
              "      <td>1</td>\n",
              "      <td>475.61</td>\n",
              "      <td>395.50</td>\n",
              "      <td>423.61</td>\n",
              "      <td>376.36</td>\n",
              "      <td>338.94</td>\n",
              "      <td>321.26</td>\n",
              "      <td>326.34</td>\n",
              "      <td>342.84</td>\n",
              "      <td>251.23</td>\n",
              "      <td>...</td>\n",
              "      <td>543.25</td>\n",
              "      <td>453.87</td>\n",
              "      <td>344.35</td>\n",
              "      <td>266.16</td>\n",
              "      <td>242.18</td>\n",
              "      <td>163.02</td>\n",
              "      <td>86.29</td>\n",
              "      <td>13.06</td>\n",
              "      <td>161.22</td>\n",
              "      <td>213.60</td>\n",
              "    </tr>\n",
              "    <tr>\n",
              "      <th>5080</th>\n",
              "      <td>1</td>\n",
              "      <td>-46.63</td>\n",
              "      <td>-55.39</td>\n",
              "      <td>-64.88</td>\n",
              "      <td>-88.75</td>\n",
              "      <td>-75.40</td>\n",
              "      <td>-64.06</td>\n",
              "      <td>-66.37</td>\n",
              "      <td>-41.95</td>\n",
              "      <td>-68.07</td>\n",
              "      <td>...</td>\n",
              "      <td>29.64</td>\n",
              "      <td>6.90</td>\n",
              "      <td>32.94</td>\n",
              "      <td>56.63</td>\n",
              "      <td>28.71</td>\n",
              "      <td>28.82</td>\n",
              "      <td>-20.12</td>\n",
              "      <td>-14.41</td>\n",
              "      <td>-43.35</td>\n",
              "      <td>-30.04</td>\n",
              "    </tr>\n",
              "    <tr>\n",
              "      <th>5081</th>\n",
              "      <td>1</td>\n",
              "      <td>299.41</td>\n",
              "      <td>302.77</td>\n",
              "      <td>278.68</td>\n",
              "      <td>263.48</td>\n",
              "      <td>236.89</td>\n",
              "      <td>186.93</td>\n",
              "      <td>145.45</td>\n",
              "      <td>151.20</td>\n",
              "      <td>123.38</td>\n",
              "      <td>...</td>\n",
              "      <td>-126.36</td>\n",
              "      <td>-133.82</td>\n",
              "      <td>-134.02</td>\n",
              "      <td>-98.76</td>\n",
              "      <td>-106.60</td>\n",
              "      <td>-74.95</td>\n",
              "      <td>-46.29</td>\n",
              "      <td>-3.08</td>\n",
              "      <td>-28.43</td>\n",
              "      <td>-48.68</td>\n",
              "    </tr>\n",
              "    <tr>\n",
              "      <th>5082</th>\n",
              "      <td>1</td>\n",
              "      <td>-91.91</td>\n",
              "      <td>-92.97</td>\n",
              "      <td>-78.76</td>\n",
              "      <td>-97.33</td>\n",
              "      <td>-68.00</td>\n",
              "      <td>-68.24</td>\n",
              "      <td>-75.48</td>\n",
              "      <td>-49.25</td>\n",
              "      <td>-30.92</td>\n",
              "      <td>...</td>\n",
              "      <td>139.95</td>\n",
              "      <td>147.26</td>\n",
              "      <td>156.95</td>\n",
              "      <td>155.64</td>\n",
              "      <td>156.36</td>\n",
              "      <td>151.75</td>\n",
              "      <td>-24.45</td>\n",
              "      <td>-17.00</td>\n",
              "      <td>3.23</td>\n",
              "      <td>19.28</td>\n",
              "    </tr>\n",
              "    <tr>\n",
              "      <th>5083</th>\n",
              "      <td>1</td>\n",
              "      <td>989.75</td>\n",
              "      <td>891.01</td>\n",
              "      <td>908.53</td>\n",
              "      <td>851.83</td>\n",
              "      <td>755.11</td>\n",
              "      <td>615.78</td>\n",
              "      <td>595.77</td>\n",
              "      <td>458.87</td>\n",
              "      <td>492.84</td>\n",
              "      <td>...</td>\n",
              "      <td>-26.50</td>\n",
              "      <td>-4.84</td>\n",
              "      <td>-76.30</td>\n",
              "      <td>-37.84</td>\n",
              "      <td>-153.83</td>\n",
              "      <td>-136.16</td>\n",
              "      <td>38.03</td>\n",
              "      <td>100.28</td>\n",
              "      <td>-45.64</td>\n",
              "      <td>35.58</td>\n",
              "    </tr>\n",
              "    <tr>\n",
              "      <th>5084</th>\n",
              "      <td>1</td>\n",
              "      <td>273.39</td>\n",
              "      <td>278.00</td>\n",
              "      <td>261.73</td>\n",
              "      <td>236.99</td>\n",
              "      <td>280.73</td>\n",
              "      <td>264.90</td>\n",
              "      <td>252.92</td>\n",
              "      <td>254.88</td>\n",
              "      <td>237.60</td>\n",
              "      <td>...</td>\n",
              "      <td>-26.82</td>\n",
              "      <td>-53.89</td>\n",
              "      <td>-48.71</td>\n",
              "      <td>30.99</td>\n",
              "      <td>15.96</td>\n",
              "      <td>-3.47</td>\n",
              "      <td>65.73</td>\n",
              "      <td>88.42</td>\n",
              "      <td>79.07</td>\n",
              "      <td>79.43</td>\n",
              "    </tr>\n",
              "    <tr>\n",
              "      <th>5085</th>\n",
              "      <td>1</td>\n",
              "      <td>3.82</td>\n",
              "      <td>2.09</td>\n",
              "      <td>-3.29</td>\n",
              "      <td>-2.88</td>\n",
              "      <td>1.66</td>\n",
              "      <td>-0.75</td>\n",
              "      <td>3.85</td>\n",
              "      <td>-0.03</td>\n",
              "      <td>3.28</td>\n",
              "      <td>...</td>\n",
              "      <td>10.86</td>\n",
              "      <td>-3.23</td>\n",
              "      <td>-5.10</td>\n",
              "      <td>-4.61</td>\n",
              "      <td>-9.82</td>\n",
              "      <td>-1.50</td>\n",
              "      <td>-4.65</td>\n",
              "      <td>-14.55</td>\n",
              "      <td>-6.41</td>\n",
              "      <td>-2.55</td>\n",
              "    </tr>\n",
              "    <tr>\n",
              "      <th>5086</th>\n",
              "      <td>1</td>\n",
              "      <td>323.28</td>\n",
              "      <td>306.36</td>\n",
              "      <td>293.16</td>\n",
              "      <td>287.67</td>\n",
              "      <td>249.89</td>\n",
              "      <td>218.30</td>\n",
              "      <td>188.86</td>\n",
              "      <td>178.93</td>\n",
              "      <td>118.93</td>\n",
              "      <td>...</td>\n",
              "      <td>71.19</td>\n",
              "      <td>0.97</td>\n",
              "      <td>55.20</td>\n",
              "      <td>-1.63</td>\n",
              "      <td>-5.50</td>\n",
              "      <td>-25.33</td>\n",
              "      <td>-41.31</td>\n",
              "      <td>-16.72</td>\n",
              "      <td>-14.09</td>\n",
              "      <td>27.82</td>\n",
              "    </tr>\n",
              "  </tbody>\n",
              "</table>\n",
              "<p>10 rows × 3198 columns</p>\n",
              "</div>\n",
              "    <div class=\"colab-df-buttons\">\n",
              "\n",
              "  <div class=\"colab-df-container\">\n",
              "    <button class=\"colab-df-convert\" onclick=\"convertToInteractive('df-bc29d05d-2e58-4109-8be7-f9a1bf701f79')\"\n",
              "            title=\"Convert this dataframe to an interactive table.\"\n",
              "            style=\"display:none;\">\n",
              "\n",
              "  <svg xmlns=\"http://www.w3.org/2000/svg\" height=\"24px\" viewBox=\"0 -960 960 960\">\n",
              "    <path d=\"M120-120v-720h720v720H120Zm60-500h600v-160H180v160Zm220 220h160v-160H400v160Zm0 220h160v-160H400v160ZM180-400h160v-160H180v160Zm440 0h160v-160H620v160ZM180-180h160v-160H180v160Zm440 0h160v-160H620v160Z\"/>\n",
              "  </svg>\n",
              "    </button>\n",
              "\n",
              "  <style>\n",
              "    .colab-df-container {\n",
              "      display:flex;\n",
              "      gap: 12px;\n",
              "    }\n",
              "\n",
              "    .colab-df-convert {\n",
              "      background-color: #E8F0FE;\n",
              "      border: none;\n",
              "      border-radius: 50%;\n",
              "      cursor: pointer;\n",
              "      display: none;\n",
              "      fill: #1967D2;\n",
              "      height: 32px;\n",
              "      padding: 0 0 0 0;\n",
              "      width: 32px;\n",
              "    }\n",
              "\n",
              "    .colab-df-convert:hover {\n",
              "      background-color: #E2EBFA;\n",
              "      box-shadow: 0px 1px 2px rgba(60, 64, 67, 0.3), 0px 1px 3px 1px rgba(60, 64, 67, 0.15);\n",
              "      fill: #174EA6;\n",
              "    }\n",
              "\n",
              "    .colab-df-buttons div {\n",
              "      margin-bottom: 4px;\n",
              "    }\n",
              "\n",
              "    [theme=dark] .colab-df-convert {\n",
              "      background-color: #3B4455;\n",
              "      fill: #D2E3FC;\n",
              "    }\n",
              "\n",
              "    [theme=dark] .colab-df-convert:hover {\n",
              "      background-color: #434B5C;\n",
              "      box-shadow: 0px 1px 3px 1px rgba(0, 0, 0, 0.15);\n",
              "      filter: drop-shadow(0px 1px 2px rgba(0, 0, 0, 0.3));\n",
              "      fill: #FFFFFF;\n",
              "    }\n",
              "  </style>\n",
              "\n",
              "    <script>\n",
              "      const buttonEl =\n",
              "        document.querySelector('#df-bc29d05d-2e58-4109-8be7-f9a1bf701f79 button.colab-df-convert');\n",
              "      buttonEl.style.display =\n",
              "        google.colab.kernel.accessAllowed ? 'block' : 'none';\n",
              "\n",
              "      async function convertToInteractive(key) {\n",
              "        const element = document.querySelector('#df-bc29d05d-2e58-4109-8be7-f9a1bf701f79');\n",
              "        const dataTable =\n",
              "          await google.colab.kernel.invokeFunction('convertToInteractive',\n",
              "                                                    [key], {});\n",
              "        if (!dataTable) return;\n",
              "\n",
              "        const docLinkHtml = 'Like what you see? Visit the ' +\n",
              "          '<a target=\"_blank\" href=https://colab.research.google.com/notebooks/data_table.ipynb>data table notebook</a>'\n",
              "          + ' to learn more about interactive tables.';\n",
              "        element.innerHTML = '';\n",
              "        dataTable['output_type'] = 'display_data';\n",
              "        await google.colab.output.renderOutput(dataTable, element);\n",
              "        const docLink = document.createElement('div');\n",
              "        docLink.innerHTML = docLinkHtml;\n",
              "        element.appendChild(docLink);\n",
              "      }\n",
              "    </script>\n",
              "  </div>\n",
              "\n",
              "\n",
              "<div id=\"df-ac9d30b9-0c54-4b64-9225-0da919ae0bd1\">\n",
              "  <button class=\"colab-df-quickchart\" onclick=\"quickchart('df-ac9d30b9-0c54-4b64-9225-0da919ae0bd1')\"\n",
              "            title=\"Suggest charts\"\n",
              "            style=\"display:none;\">\n",
              "\n",
              "<svg xmlns=\"http://www.w3.org/2000/svg\" height=\"24px\"viewBox=\"0 0 24 24\"\n",
              "     width=\"24px\">\n",
              "    <g>\n",
              "        <path d=\"M19 3H5c-1.1 0-2 .9-2 2v14c0 1.1.9 2 2 2h14c1.1 0 2-.9 2-2V5c0-1.1-.9-2-2-2zM9 17H7v-7h2v7zm4 0h-2V7h2v10zm4 0h-2v-4h2v4z\"/>\n",
              "    </g>\n",
              "</svg>\n",
              "  </button>\n",
              "\n",
              "<style>\n",
              "  .colab-df-quickchart {\n",
              "      --bg-color: #E8F0FE;\n",
              "      --fill-color: #1967D2;\n",
              "      --hover-bg-color: #E2EBFA;\n",
              "      --hover-fill-color: #174EA6;\n",
              "      --disabled-fill-color: #AAA;\n",
              "      --disabled-bg-color: #DDD;\n",
              "  }\n",
              "\n",
              "  [theme=dark] .colab-df-quickchart {\n",
              "      --bg-color: #3B4455;\n",
              "      --fill-color: #D2E3FC;\n",
              "      --hover-bg-color: #434B5C;\n",
              "      --hover-fill-color: #FFFFFF;\n",
              "      --disabled-bg-color: #3B4455;\n",
              "      --disabled-fill-color: #666;\n",
              "  }\n",
              "\n",
              "  .colab-df-quickchart {\n",
              "    background-color: var(--bg-color);\n",
              "    border: none;\n",
              "    border-radius: 50%;\n",
              "    cursor: pointer;\n",
              "    display: none;\n",
              "    fill: var(--fill-color);\n",
              "    height: 32px;\n",
              "    padding: 0;\n",
              "    width: 32px;\n",
              "  }\n",
              "\n",
              "  .colab-df-quickchart:hover {\n",
              "    background-color: var(--hover-bg-color);\n",
              "    box-shadow: 0 1px 2px rgba(60, 64, 67, 0.3), 0 1px 3px 1px rgba(60, 64, 67, 0.15);\n",
              "    fill: var(--button-hover-fill-color);\n",
              "  }\n",
              "\n",
              "  .colab-df-quickchart-complete:disabled,\n",
              "  .colab-df-quickchart-complete:disabled:hover {\n",
              "    background-color: var(--disabled-bg-color);\n",
              "    fill: var(--disabled-fill-color);\n",
              "    box-shadow: none;\n",
              "  }\n",
              "\n",
              "  .colab-df-spinner {\n",
              "    border: 2px solid var(--fill-color);\n",
              "    border-color: transparent;\n",
              "    border-bottom-color: var(--fill-color);\n",
              "    animation:\n",
              "      spin 1s steps(1) infinite;\n",
              "  }\n",
              "\n",
              "  @keyframes spin {\n",
              "    0% {\n",
              "      border-color: transparent;\n",
              "      border-bottom-color: var(--fill-color);\n",
              "      border-left-color: var(--fill-color);\n",
              "    }\n",
              "    20% {\n",
              "      border-color: transparent;\n",
              "      border-left-color: var(--fill-color);\n",
              "      border-top-color: var(--fill-color);\n",
              "    }\n",
              "    30% {\n",
              "      border-color: transparent;\n",
              "      border-left-color: var(--fill-color);\n",
              "      border-top-color: var(--fill-color);\n",
              "      border-right-color: var(--fill-color);\n",
              "    }\n",
              "    40% {\n",
              "      border-color: transparent;\n",
              "      border-right-color: var(--fill-color);\n",
              "      border-top-color: var(--fill-color);\n",
              "    }\n",
              "    60% {\n",
              "      border-color: transparent;\n",
              "      border-right-color: var(--fill-color);\n",
              "    }\n",
              "    80% {\n",
              "      border-color: transparent;\n",
              "      border-right-color: var(--fill-color);\n",
              "      border-bottom-color: var(--fill-color);\n",
              "    }\n",
              "    90% {\n",
              "      border-color: transparent;\n",
              "      border-bottom-color: var(--fill-color);\n",
              "    }\n",
              "  }\n",
              "</style>\n",
              "\n",
              "  <script>\n",
              "    async function quickchart(key) {\n",
              "      const quickchartButtonEl =\n",
              "        document.querySelector('#' + key + ' button');\n",
              "      quickchartButtonEl.disabled = true;  // To prevent multiple clicks.\n",
              "      quickchartButtonEl.classList.add('colab-df-spinner');\n",
              "      try {\n",
              "        const charts = await google.colab.kernel.invokeFunction(\n",
              "            'suggestCharts', [key], {});\n",
              "      } catch (error) {\n",
              "        console.error('Error during call to suggestCharts:', error);\n",
              "      }\n",
              "      quickchartButtonEl.classList.remove('colab-df-spinner');\n",
              "      quickchartButtonEl.classList.add('colab-df-quickchart-complete');\n",
              "    }\n",
              "    (() => {\n",
              "      let quickchartButtonEl =\n",
              "        document.querySelector('#df-ac9d30b9-0c54-4b64-9225-0da919ae0bd1 button');\n",
              "      quickchartButtonEl.style.display =\n",
              "        google.colab.kernel.accessAllowed ? 'block' : 'none';\n",
              "    })();\n",
              "  </script>\n",
              "</div>\n",
              "\n",
              "    </div>\n",
              "  </div>\n"
            ],
            "application/vnd.google.colaboratory.intrinsic+json": {
              "type": "dataframe"
            }
          },
          "metadata": {},
          "execution_count": 8
        }
      ]
    },
    {
      "cell_type": "code",
      "source": [
        "print(exoTest['LABEL'].value_counts())\n",
        "print(exoTrain['LABEL'].value_counts())"
      ],
      "metadata": {
        "colab": {
          "base_uri": "https://localhost:8080/"
        },
        "id": "aCoGDTHDL3ZM",
        "outputId": "d6ffbf9f-10c8-4e36-9a01-2b0936e877f4"
      },
      "execution_count": null,
      "outputs": [
        {
          "output_type": "stream",
          "name": "stdout",
          "text": [
            "1    565\n",
            "2      5\n",
            "Name: LABEL, dtype: int64\n",
            "1    5050\n",
            "2      37\n",
            "Name: LABEL, dtype: int64\n"
          ]
        }
      ]
    },
    {
      "cell_type": "markdown",
      "source": [
        "> **Key takeways:**\n",
        "\n",
        "- You should notice the large imbalance in those datasets. Because of that, we will apply SMOTE to regularize the data later on in this notebook.\n",
        "\n",
        "- From the print function we could see that, in both datasets, the number of positive samples is overwhelmingly smaller than the negative ones. Soon we will further analyze the disparity between samples in the training dataset, which will be our main focus.\n",
        "\n",
        "\n"
      ],
      "metadata": {
        "id": "VGV1T8CQJyEr"
      }
    },
    {
      "cell_type": "markdown",
      "source": [
        "Hooray! Now that the setup is done, let's customize the dataset to our needs. We'll also augment the data to adress the imbalance issue.\n",
        "\n"
      ],
      "metadata": {
        "id": "uu3zytZFC0Wo"
      }
    },
    {
      "cell_type": "markdown",
      "source": [
        "---"
      ],
      "metadata": {
        "id": "bCYqmySdQDco"
      }
    },
    {
      "cell_type": "markdown",
      "source": [
        "### Data customization and augmentation"
      ],
      "metadata": {
        "id": "r9XA0r-eDYIM"
      }
    },
    {
      "cell_type": "markdown",
      "source": [
        "#### **Customization**"
      ],
      "metadata": {
        "id": "SlYWjrcueNyZ"
      }
    },
    {
      "cell_type": "markdown",
      "source": [
        "- Continuing on the data preprocessing, we will use PyTorch to custom the data."
      ],
      "metadata": {
        "id": "ijKQPHpOQzsp"
      }
    },
    {
      "cell_type": "code",
      "source": [
        "class CustomDataset(Dataset):\n",
        "    def __init__(self, csv_file, transform=None):\n",
        "        with open(csv_file,\"r\") as f:\n",
        "            self.data = pd.read_csv(f) # read the files\n",
        "        self.labels = self.data.iloc[:,0].values - 1 # set the first line of the input data as the label (Originally 1 or 2, but we will transform them into 0 or 1 by decreasing 1)\n",
        "        self.features = self.data.iloc[:, 1:].values # set the rest of the input data as the feature (FLUX over time)\n",
        "        self.transform = transform # transformation (which is None) that will be applied to samples.\n",
        "\n",
        "    def __len__(self):\n",
        "        return len(self.data)\n",
        "\n",
        "    def __getitem__(self, idx): # retrieves a data sample from the dataset\n",
        "            label = self.labels[idx] # fetch label of sample\n",
        "            feature = self.features[idx] # fetch features of sample\n",
        "\n",
        "            if self.transform: # if there is a specified transformation, transform the data\n",
        "                feature = self.transform(feature)\n",
        "\n",
        "            sample = {'feature': feature, 'label': label}\n",
        "            return sample\n",
        "\n",
        "# instantiate train and test datasets\n",
        "train_dataset = CustomDataset('./exoTrain.csv') # grab the training data\n",
        "test_dataset = CustomDataset('./exoTest.csv') # grab the test data\n"
      ],
      "metadata": {
        "id": "sXE-TFntRveA"
      },
      "execution_count": null,
      "outputs": []
    },
    {
      "cell_type": "markdown",
      "source": [
        " Following [PyTorch's official tutorial for deep learning frameworks](https://pytorch.org/tutorials/beginner/data_loading_tutorial.html), we have the CSV file opened and its contents read using `pd.read_csv()` from the Pandas library.\n",
        "\n",
        " The data is stored in the `self.data` attribute. The labels are extracted from the first column `(iloc[:,0])` of the data using `.values`.\n",
        "\n",
        " The labels are then transformed by subtracting 1, converting them from 1 or 2 to 0 or 1 respectively. These transformed labels are stored in the `self.labels` attribute."
      ],
      "metadata": {
        "id": "CGKdI5IiUQJQ"
      }
    },
    {
      "cell_type": "code",
      "source": [
        "    def __len__(self): # function that gives back the size of the dataset (how many samples)\n",
        "            return len(self.labels)\n",
        "\n",
        "    def __getitem__(self, idx): # retrieves a data sample from the dataset\n",
        "            label = self.labels[idx] # fetch label of sample\n",
        "            feature = self.features[idx] # fetch features of sample\n",
        "\n",
        "            if self.transform: # if there is a specified transformation, transform the data\n",
        "                feature = self.transform(feature)\n",
        "\n",
        "            sample = {'feature': feature, 'label': label}\n",
        "            return sample\n",
        "\n",
        "    train_dataset = CustomDataset('./exoTrain.csv') # grab the training data\n",
        "    test_dataset = CustomDataset('./exoTest.csv') # grab the test data\n",
        "\n",
        "\n"
      ],
      "metadata": {
        "id": "Rm-P3f0WXO2u"
      },
      "execution_count": null,
      "outputs": []
    },
    {
      "cell_type": "markdown",
      "source": [
        "\n",
        "\n",
        "To check if the transformation was successful, you can call a print function as we did before, but this time adding `pd.Series`."
      ],
      "metadata": {
        "id": "aZM3RgDKW0iw"
      }
    },
    {
      "cell_type": "code",
      "source": [
        "print(\"LABEL:\", pd.Series(test_dataset.labels).value_counts())\n",
        "print(\"LABEL:\", pd.Series(train_dataset.labels).value_counts())"
      ],
      "metadata": {
        "colab": {
          "base_uri": "https://localhost:8080/"
        },
        "id": "w-vIEvdNZUno",
        "outputId": "1c369e19-8253-4ac1-837b-96060444641f"
      },
      "execution_count": null,
      "outputs": [
        {
          "output_type": "stream",
          "name": "stdout",
          "text": [
            "LABEL: 0    565\n",
            "1      5\n",
            "dtype: int64\n",
            "LABEL: 0    5050\n",
            "1      37\n",
            "dtype: int64\n"
          ]
        }
      ]
    },
    {
      "cell_type": "code",
      "source": [
        "label_counts = np.bincount(train_dataset.labels)\n",
        "label_names = ['Not Exoplanet','Exoplanet']\n",
        "\n",
        "fig, axes = plt.subplots(1, 2, figsize=(12, 6))\n",
        "\n",
        "for i, dataset in enumerate([train_dataset, test_dataset]):\n",
        "    label_counts = np.bincount(dataset.labels)\n",
        "    axes[i].pie(label_counts, labels=label_names, autopct='%1.1f%%', startangle=90, colors=sns.color_palette('pastel'))\n",
        "    axes[i].set_title('Distribution of Samples in ' + ['Training', 'Test'][i] + ' Dataset')\n",
        "\n",
        "plt.show()"
      ],
      "metadata": {
        "colab": {
          "base_uri": "https://localhost:8080/",
          "height": 417
        },
        "id": "kg-FFLpBcF2N",
        "outputId": "14e5ddc2-08ff-4aee-ba30-c3e5ed4052f7"
      },
      "execution_count": null,
      "outputs": [
        {
          "output_type": "display_data",
          "data": {
            "text/plain": [
              "<Figure size 1200x600 with 2 Axes>"
            ],
            "image/png": "[encoded data removed]"
          },
          "metadata": {}
        }
      ]
    },
    {
      "cell_type": "markdown",
      "source": [
        "It's evident that the training dataset exhibits slightly more imbalance compared to the test dataset."
      ],
      "metadata": {
        "id": "bWDSyr1TcZOj"
      }
    },
    {
      "cell_type": "markdown",
      "source": [
        "#### **Augmentation**"
      ],
      "metadata": {
        "id": "IJwMknnTeDrY"
      }
    },
    {
      "cell_type": "markdown",
      "source": [
        "According to [Chawla, Bowyer, et al. (2002)](https://www.jair.org/index.php/jair/article/view/10302), Synthetic Minority Over-Sampling Technique (SMOTE) combines under-sampling of the majority class -- in our case, the negative samples of exoplanet candidates -- with a unique form of over-sampling the minority class to address class imbalance."
      ],
      "metadata": {
        "id": "GBQAQhgzjJU3"
      }
    },
    {
      "cell_type": "markdown",
      "source": [
        "So, in essence, SMOTE balances the samples by creating synthetic data points from the minority class."
      ],
      "metadata": {
        "id": "ndMPcB2UeI1K"
      }
    },
    {
      "cell_type": "code",
      "source": [
        "\n",
        "\n",
        "# initialize smote with default sampling strategy\n",
        "smote = SMOTE()\n",
        "\n",
        "\n",
        "# update the labels and features to the resampled data\n",
        "train_dataset.features, train_dataset.labels = smote.fit_resample(train_dataset.features, train_dataset.labels)\n",
        "\n",
        "\n",
        "print(\"Class distribution in the testing dataset after SMOTE:\", pd.Series(test_dataset.labels).value_counts())\n",
        "print(\"Class distribution in the training dataset after SMOTE:\", pd.Series(train_dataset.labels).value_counts())"
      ],
      "metadata": {
        "colab": {
          "base_uri": "https://localhost:8080/"
        },
        "id": "p4Fr6CMjfs4z",
        "outputId": "8a8a6e93-429a-474c-e253-65c22fbfa0dd"
      },
      "execution_count": null,
      "outputs": [
        {
          "output_type": "stream",
          "name": "stdout",
          "text": [
            "Class distribution in the testing dataset after SMOTE: 0    565\n",
            "1      5\n",
            "dtype: int64\n",
            "Class distribution in the training dataset after SMOTE: 1    5050\n",
            "0    5050\n",
            "dtype: int64\n"
          ]
        }
      ]
    },
    {
      "cell_type": "code",
      "source": [
        "label_counts = np.bincount(train_dataset.labels)\n",
        "label_names = ['Not Exoplanet','Exoplanet']\n",
        "\n",
        "fig, axes = plt.subplots(1, 2, figsize=(12, 6))\n",
        "\n",
        "for i, dataset in enumerate([train_dataset, test_dataset]):\n",
        "    label_counts = np.bincount(dataset.labels)\n",
        "    axes[i].pie(label_counts, labels=label_names, autopct='%1.1f%%', startangle=90, colors=sns.color_palette('pastel'))\n",
        "    axes[i].set_title('Distribution of Samples in ' + ['Training', 'Test'][i] + ' Dataset')\n",
        "\n",
        "plt.show()"
      ],
      "metadata": {
        "colab": {
          "base_uri": "https://localhost:8080/",
          "height": 389
        },
        "id": "I8I4Ou7sq5o8",
        "outputId": "bd96a669-01aa-418f-b7cd-70f05e8ad2db"
      },
      "execution_count": null,
      "outputs": [
        {
          "output_type": "display_data",
          "data": {
            "text/plain": [
              "<Figure size 1200x600 with 2 Axes>"
            ],
            "image/png": "[encoded data removed]"
          },
          "metadata": {}
        }
      ]
    },
    {
      "cell_type": "markdown",
      "source": [
        "> **Reminder:**\n",
        "\n",
        "The goal of machine learning models is to generalize well to unseen data. By applying SMOTE only to the training dataset, the model learns to better represent the **underlying patterns** in the data while avoiding overfitting. This ensures that the model's performance on real-world data is more reliable."
      ],
      "metadata": {
        "id": "8xqKf4B3BdBD"
      }
    },
    {
      "cell_type": "markdown",
      "source": [
        "\n",
        "\n",
        "---\n",
        "\n",
        "\n",
        "\n",
        "\n",
        "\n"
      ],
      "metadata": {
        "id": "9gsT8myTrVD-"
      }
    },
    {
      "cell_type": "markdown",
      "source": [
        "### DataLoader"
      ],
      "metadata": {
        "id": "isaSCpFDsHba"
      }
    },
    {
      "cell_type": "markdown",
      "source": [
        "Creating a DataLoader allows us, among other things, to load data in batches, making it easier to process large datasets without loading everything into memory at once.\n"
      ],
      "metadata": {
        "id": "8vs8UqJFsWiX"
      }
    },
    {
      "cell_type": "markdown",
      "source": [
        "It also can shuffle the data, which is important for training models to prevent the model from learning the order of the data!"
      ],
      "metadata": {
        "id": "UDGp2Qs8acFQ"
      }
    },
    {
      "cell_type": "code",
      "source": [
        "# number of samples in each batch during training\n",
        "batch_size = 64\n",
        "\n",
        "spike_grad = surrogate.fast_sigmoid(slope=25)\n",
        "\n",
        "# initialize a beta value of 0.5\n",
        "beta = 0.5\n",
        "\n",
        "\n",
        "# create a dataloader for the testset\n",
        "test_dataloader = DataLoader(test_dataset, batch_size=batch_size, shuffle=False, drop_last=True)\n",
        "\n",
        "# create a dataloader for the trainset\n",
        "train_dataloader = DataLoader(train_dataset, batch_size=batch_size, shuffle=True, drop_last=True)"
      ],
      "metadata": {
        "id": "n_4T14rxgv2x"
      },
      "execution_count": null,
      "outputs": []
    },
    {
      "cell_type": "code",
      "source": [
        "print(train_dataset.data.head(1))"
      ],
      "metadata": {
        "colab": {
          "base_uri": "https://localhost:8080/"
        },
        "id": "cCxWV3d1gmbe",
        "outputId": "23870156-9c33-4c48-abbd-80e7a099a2dc"
      },
      "execution_count": null,
      "outputs": [
        {
          "output_type": "stream",
          "name": "stdout",
          "text": [
            "   LABEL  FLUX.1  FLUX.2  FLUX.3  FLUX.4  FLUX.5  FLUX.6  FLUX.7  FLUX.8  \\\n",
            "0      2   93.85   83.81    20.1  -26.98  -39.56 -124.71 -135.18  -96.27   \n",
            "\n",
            "   FLUX.9  ...  FLUX.3188  FLUX.3189  FLUX.3190  FLUX.3191  FLUX.3192  \\\n",
            "0  -79.89  ...     -78.07    -102.15    -102.15      25.13      48.57   \n",
            "\n",
            "   FLUX.3193  FLUX.3194  FLUX.3195  FLUX.3196  FLUX.3197  \n",
            "0      92.54      39.32      61.42       5.08     -39.54  \n",
            "\n",
            "[1 rows x 3198 columns]\n"
          ]
        }
      ]
    },
    {
      "cell_type": "code",
      "execution_count": null,
      "metadata": {
        "id": "L2wgL_qcMHBo"
      },
      "outputs": [],
      "source": [
        "fig = make_subplots(rows=2, cols=2,subplot_titles=(\"Star #0 (Exoplanet)\", \"Star #1 (Exoplanet)\",\n",
        "                                                   \"Star #3000 (No-Exoplanet)\", \"Star #3001 (No-Exoplanet)\"))\n",
        "fig.add_trace(\n",
        "    go.Scatter(y=train_dataset.__getitem__(0)['feature']),\n",
        "    row=1, col=1\n",
        ")\n",
        "fig.add_trace(\n",
        "    go.Scatter(y=train_dataset.__getitem__(1)['feature']),\n",
        "    row=1, col=2\n",
        ")\n",
        "fig.add_trace(\n",
        "    go.Scatter(y=train_dataset.__getitem__(3000)['feature']),\n",
        "    row=2, col=1\n",
        ")\n",
        "fig.add_trace(\n",
        "    go.Scatter(y=train_dataset.__getitem__(3001)['feature']),\n",
        "    row=2, col=2\n",
        ")\n",
        "for i in range(1, 5):\n",
        "    fig.update_xaxes(title_text=\"Time\", row=(i-1)//2 + 1, col=(i-1)%2 + 1)\n",
        "    fig.update_yaxes(title_text=\"Flux\", row=(i-1)//2 + 1, col=(i-1)%2 + 1)\n",
        "\n",
        "fig.update_layout(height=600, width=800, title_text=\"Exoplanets Flux vs No-Exoplanet Flux\",showlegend=False)\n",
        "fig.show()"
      ]
    },
    {
      "cell_type": "markdown",
      "source": [
        "---\n"
      ],
      "metadata": {
        "id": "9StLNF7yluaT"
      }
    },
    {
      "cell_type": "markdown",
      "source": [
        "### Model network"
      ],
      "metadata": {
        "id": "aHnkDQ6ZmIP4"
      }
    },
    {
      "cell_type": "markdown",
      "source": [
        "- Let's define a neural network model called `Net` using PyTorch's `nn.Module`."
      ],
      "metadata": {
        "id": "tYv4bxbfmSJ3"
      }
    },
    {
      "cell_type": "code",
      "execution_count": null,
      "metadata": {
        "id": "juQe2MaMwiC-"
      },
      "outputs": [],
      "source": [
        "class Net(nn.Module):\n",
        "    def __init__(self):\n",
        "        super().__init__()\n",
        "\n",
        "        # Initialize layers (3 linear layers and 3 leaky layers)\n",
        "        self.fc1 = nn.Linear(3197, 128) # takes an input of 3197 and outputs 128\n",
        "        self.lif1 = snn.Leaky(beta=beta, spike_grad=spike_grad)\n",
        "        self.fc2 = nn.Linear(64, 64) # takes an input of 64 and outputs 68\n",
        "        self.lif2 = snn.Leaky(beta=beta, spike_grad=spike_grad)\n",
        "        self.fc3 = nn.Linear(32, 2) # takes in 32 inputs and outputs our two outputs (planet with/without an exoplanet)\n",
        "        self.lif3 = snn.Leaky(beta=beta, spike_grad=spike_grad)\n",
        "        self.softmax = nn.Softmax(dim=1) # softmax applied with a dimension of 1\n",
        "\n",
        "    def forward(self, x):\n",
        "\n",
        "        # Initialize hidden states and outputs at t=0\n",
        "        mem1 = self.lif1.init_leaky()\n",
        "        mem2 = self.lif2.init_leaky()\n",
        "\n",
        "        cur1 = F.max_pool1d(self.fc1(x), 2)\n",
        "        spk1, mem1 = self.lif1(cur1, mem1)\n",
        "\n",
        "        cur2 = F.max_pool1d(self.fc2(spk1), 2)\n",
        "        spk2, mem2 = self.lif2(cur2, mem2)\n",
        "\n",
        "        cur3 = self.fc3(spk2.view(batch_size, -1))\n",
        "\n",
        "        # return cur3\n",
        "        return cur3\n",
        "\n",
        "# device = torch.device(\"cuda\") if torch.cuda.is_available() else torch.device(\"mps\") if torch.backends.mps.is_available() else torch.device(\"cpu\")\n",
        "model = Net() # initialize the model to the new class."
      ]
    },
    {
      "cell_type": "markdown",
      "source": [
        "This neural network consists of three fully connected linear layers (`fc1`, `fc2`, and `fc3`) followed by three leaky integrate-and-fire (LIF) layers (`lif1`, `lif2`, and `lif3`).\n",
        "\n"
      ],
      "metadata": {
        "id": "8e4rKyxiDhix"
      }
    },
    {
      "cell_type": "markdown",
      "source": [
        "The sizes of the input and output dimensions for each linear layer are specified and a softmax layer (`softmax`) is defined to normalize the output probabilities."
      ],
      "metadata": {
        "id": "hh6VLnhzSEHn"
      }
    },
    {
      "cell_type": "markdown",
      "source": [
        "For each linear layer, the program specify the number of input and output features. For example, the first linear layer takes 3197 input features and produces 128 output features."
      ],
      "metadata": {
        "id": "DDGtQ1BRMO33"
      }
    },
    {
      "cell_type": "markdown",
      "source": [
        "Then, the program initialize the hidden states and outputs for each neuron in the network at time step 𝘵 = 𝟶. This is like setting up the initial conditions before we start processing the input data."
      ],
      "metadata": {
        "id": "e5okAG9iSJU9"
      }
    },
    {
      "cell_type": "markdown",
      "source": [
        "Following it's the processing of the input data through each layer of the network.\n",
        "\n",
        "For the first linear layer (`fc1`), the program passes the input data (`x`) through the layer and apply a max pooling operation. Max pooling helps reduce the size of the data while retaining important features.\n",
        "\n",
        "Next, it applies the leaky integrate-and-fire (`LIF`) neuron model to the output of the first layer. This simulates how neurons in the brain fire in response to stimuli.\n",
        "\n",
        "This process is repeated for the second linear layer (`fc2`) and its corresponding LIF neuron, and then for the third linear layer (`fc3`).\n",
        "\n",
        "\n",
        "Finally, we obtain the output of the last linear layer (`fc3`) and return it as the result of the forward pass."
      ],
      "metadata": {
        "id": "E8nb0xFyO-vX"
      }
    },
    {
      "cell_type": "markdown",
      "source": [
        "> **Key takeways:**\n",
        "\n",
        "- The data flows sequentially through each layer of the neural network.\n",
        "\n",
        "- However, within each layer, there is *parallel processing* happening. Different parts of the data are being processed simultaneously."
      ],
      "metadata": {
        "id": "VGtSCy_gQ2zo"
      }
    },
    {
      "cell_type": "markdown",
      "source": [
        "---"
      ],
      "metadata": {
        "id": "f3auu6tsS4m3"
      }
    },
    {
      "cell_type": "markdown",
      "source": [
        "### Loss function and optimizer"
      ],
      "metadata": {
        "id": "hYOi8Y-DS7Wg"
      }
    },
    {
      "cell_type": "markdown",
      "source": [
        "Originally, this model didn't use binary cross-entropy loss, but due to the nature of our classes, it can be well-suited for calculating the loss between the predicted probabilities and the true binary labels.\n",
        "\n",
        "The optimizer continues to be the same. It updates the parameters using a small batch of training examples at a time, rather than the entire dataset (hence \"stochastic\")."
      ],
      "metadata": {
        "id": "CTDJKUBOTNkj"
      }
    },
    {
      "cell_type": "code",
      "source": [
        "criterion = nn.BCEWithLogitsLoss()  # Binary Cross-Entropy Loss\n",
        "optimizer = optim.SGD(model.parameters(), lr=0.001) # stochastic gradient descent with a learning rate of 0.001"
      ],
      "metadata": {
        "id": "Rw5ozGRLV6MM"
      },
      "execution_count": null,
      "outputs": []
    },
    {
      "cell_type": "markdown",
      "source": [
        "---"
      ],
      "metadata": {
        "id": "jxc_p6wK3fkI"
      }
    },
    {
      "cell_type": "markdown",
      "source": [
        "### Training and testing"
      ],
      "metadata": {
        "id": "tCCxucgg3hGn"
      }
    },
    {
      "cell_type": "markdown",
      "source": [
        "Following this model original developer's advice, I left the number of epochs between 50 and 500."
      ],
      "metadata": {
        "id": "RHQWXcDv3moe"
      }
    },
    {
      "cell_type": "code",
      "execution_count": null,
      "metadata": {
        "id": "DXoxzKw9kNJ-"
      },
      "outputs": [],
      "source": [
        "# create a pandas dataframe to hold the current epoch, the accuracy， sensitivity, specificity, auc-roc and loss\n",
        "results = pd.DataFrame(columns=['Epoch', 'Accuracy', 'Sensitivity', 'Specificity', 'AUC-ROC', 'Test Loss'])"
      ]
    },
    {
      "cell_type": "code",
      "execution_count": null,
      "metadata": {
        "id": "2d_9gWYbkTGp"
      },
      "outputs": [],
      "source": [
        "num_epochs = 100 # initialize a certain number of epoch iterations"
      ]
    },
    {
      "cell_type": "code",
      "execution_count": null,
      "metadata": {
        "id": "PdR9HaAMybL7"
      },
      "outputs": [],
      "source": [
        "\n",
        "for epoch in range(num_epochs):\n",
        "    model.train()  # Set model to training mode\n",
        "    for data in train_dataloader:\n",
        "        inputs, labels = data['feature'].float(), data['label'].float()  # Float\n",
        "        optimizer.zero_grad()  # Clear previously stored gradients\n",
        "        outputs = model(inputs)\n",
        "        loss = criterion(outputs, labels)  # Compute binary cross-entropy loss\n",
        "        loss.backward()  # Backpropagation\n",
        "        optimizer.step()  # Update parameters\n",
        "\n",
        "    # Test Set Evaluation\n",
        "    model.eval()  # Set model to evaluation mode\n",
        "    with torch.no_grad():\n",
        "        test_loss = 0.0\n",
        "        correct = 0\n",
        "        total = 0\n",
        "        all_labels = []\n",
        "        all_predicted = []\n",
        "        all_probs = []\n",
        "        for data in test_dataloader:\n",
        "            inputs, labels = data['feature'].float(), data['label'].float()\n",
        "            outputs = model(inputs)\n",
        "            test_loss += criterion(outputs.squeeze(), labels).item()  # Compute test loss\n",
        "            predicted = torch.round(torch.sigmoid(outputs))  # Round to get predicted labels\n",
        "            total += labels.size(0)\n",
        "            correct += (predicted == labels).sum().item()\n",
        "            all_labels.extend(labels.cpu().numpy())\n",
        "            all_predicted.extend(predicted.cpu().numpy())\n",
        "\n",
        "            probabilities = torch.sigmoid(outputs).cpu().numpy().flatten()  # Compute probabilities\n",
        "            all_probs.extend(probabilities)\n",
        "\n",
        "        accuracy = 100 * correct / total  # Calculate accuracy\n",
        "        cm = confusion_matrix(all_labels, all_predicted)  # Compute confusion matrix\n",
        "        tn, fp, fn, tp = cm.ravel()\n",
        "        sensitivity = 100 * tp / (tp + fn) if (tp + fn) > 0 else 0.0  # Calculate sensitivity\n",
        "        specificity = 100 * tn / (tn + fp) if (tn + fp) > 0 else 0.0  # Calculate specificity\n",
        "        auc_roc = 100 * roc_auc_score(all_labels, all_probs)  # Calculate AUC-ROC\n",
        "\n",
        "        # Print and store results\n",
        "        print(\n",
        "            f'Epoch [{epoch + 1}/{num_epochs}] Test Loss: {test_loss / len(test_dataloader):.2f} '\n",
        "            f'Test Accuracy: {accuracy:.2f}% Sensitivity: {sensitivity:.2f}% Specificity: {specificity:.2f}% AUC-ROC: {auc_roc:.4f}%'\n",
        "        )\n",
        "        results = results.append({\n",
        "            'Epoch': epoch + 1,\n",
        "            'Accuracy': accuracy,\n",
        "            'Sensitivity': sensitivity,\n",
        "            'Specificity': specificity,\n",
        "            'Test Loss': test_loss / len(test_dataloader),\n",
        "            'AUC-ROC': auc_roc\n",
        "        }, ignore_index=True)"
      ]
    },
    {
      "cell_type": "markdown",
      "source": [
        "---"
      ],
      "metadata": {
        "id": "WS3KlscZ1ukn"
      }
    },
    {
      "cell_type": "markdown",
      "source": [
        "### Visualization"
      ],
      "metadata": {
        "id": "oZ5I3KUf13Gm"
      }
    },
    {
      "cell_type": "code",
      "source": [
        "#@title #### Plotting the Accuracy, Sensitivity, Specificity, Test Loss, and AUC-ROC\n",
        "\n",
        "#plot the test metrics over each epoch\n",
        "\n",
        "# accuracy\n",
        "plt.figure(figsize=(10, 5))\n",
        "sns.regplot(x='Epoch', y='Accuracy', data=results, marker='o')\n",
        "plt.title('Accuracy Over Epochs')\n",
        "plt.xlabel('Epoch')\n",
        "plt.ylabel('Accuracy')\n",
        "plt.show()\n",
        "\n",
        "# sensitivity\n",
        "plt.figure(figsize=(10, 5))\n",
        "sns.regplot(x='Epoch', y='Sensitivity', data=results, marker='o', label='Sensitivity')\n",
        "plt.title('Sensitivity Over Epochs')\n",
        "plt.xlabel('Epoch')\n",
        "plt.ylabel('Sensitivity')\n",
        "plt.show()\n",
        "\n",
        "# specificity\n",
        "plt.figure(figsize=(10, 5))\n",
        "sns.regplot(x='Epoch', y='Specificity', data=results, marker='o')\n",
        "plt.title('Specificity Over Epochs')\n",
        "plt.xlabel('Epoch')\n",
        "plt.ylabel('Specificity')\n",
        "plt.show()\n",
        "\n",
        "# test-loss\n",
        "plt.figure(figsize=(10, 5))\n",
        "sns.regplot(x='Epoch', y='Test Loss', data=results, marker='o')\n",
        "plt.title('Test Loss Over Epochs')\n",
        "plt.xlabel('Epoch')\n",
        "plt.ylabel('Test Loss')\n",
        "plt.show()\n",
        "\n",
        "# auc-roc\n",
        "plt.figure(figsize=(10, 5))\n",
        "sns.regplot(x='Epoch', y='AUC-ROC', data=results, marker='o')\n",
        "plt.title('AUC-ROC Over Epochs')\n",
        "plt.xlabel('Epoch')\n",
        "plt.ylabel('AUC-ROC')\n",
        "plt.show()\n",
        "\n",
        "\n"
      ],
      "metadata": {
        "id": "bvm6K8Ip70-0"
      },
      "execution_count": null,
      "outputs": []
    },
    {
      "cell_type": "code",
      "source": [
        "fig = make_subplots(rows=2, cols=3, subplot_titles=(\"Sensitivity\", \"Accuracy\", \"AUC-ROC\", \"Specificity\", \"Test Loss\"))\n",
        "\n",
        "# Sensitivity plot\n",
        "fig.add_trace(\n",
        "    go.Scatter(x=results['Epoch'], y=results['Sensitivity'], mode='markers', marker=dict(symbol='circle', size=8)),\n",
        "    row=1, col=1\n",
        ")\n",
        "# fig.update_xaxes(title_text=\"Epoch\", row=1, col=1)\n",
        "# fig.update_yaxes(title_text=\"Sensitivity\", row=1, col=1)\n",
        "\n",
        "# Accuracy plot\n",
        "fig.add_trace(\n",
        "    go.Scatter(x=results['Epoch'], y=results['Accuracy'], mode='markers', marker=dict(symbol='circle', size=8)),\n",
        "    row=1, col=2\n",
        ")\n",
        "# fig.update_xaxes(title_text=\"Epoch\", row=1, col=2)\n",
        "# fig.update_yaxes(title_text=\"Accuracy\", row=1, col=2)\n",
        "\n",
        "# AUC ROC plot\n",
        "fig.add_trace(\n",
        "    go.Scatter(x=results['Epoch'], y=results['AUC-ROC'], mode='markers', marker=dict(symbol='circle', size=8)),\n",
        "    row=1, col=3\n",
        ")\n",
        "# fig.update_xaxes(title_text=\"Epoch\", row=1, col=3)\n",
        "# fig.update_yaxes(title_text=\"AUC ROC\", row=1, col=3)\n",
        "\n",
        "# Specificity plot\n",
        "fig.add_trace(\n",
        "    go.Scatter(x=results['Epoch'], y=results['Specificity'], mode='markers', marker=dict(symbol='circle', size=8)),\n",
        "    row=2, col=1\n",
        ")\n",
        "# fig.update_xaxes(title_text=\"Epoch\", row=2, col=1)\n",
        "# fig.update_yaxes(title_text=\"Specificity\", row=2, col=1)\n",
        "\n",
        "# Test Loss plot\n",
        "fig.add_trace(\n",
        "    go.Scatter(x=results['Epoch'], y=results['Test Loss'], mode='markers', marker=dict(symbol='circle', size=8)),\n",
        "    row=2, col=2\n",
        ")\n",
        "\n",
        "# Define different y-axis labels\n",
        "y_labels = ['True Positive Rate (TPR)', 'Accuracy', 'AUC-ROC', 'True False Rate (TFR)', 'Test Loss']\n",
        "\n",
        "for i in range(1, 6):\n",
        "    row_num = (i - 1) // 3 + 1\n",
        "    col_num = (i - 1) % 3 + 1\n",
        "\n",
        "    fig.update_xaxes(title_text=\"Epochs\", row=row_num, col=col_num)\n",
        "    fig.update_yaxes(title_text=y_labels[i-1], row=row_num, col=col_num)\n",
        "\n",
        "# Update layout\n",
        "fig.update_layout(\n",
        "    height=600,\n",
        "    width=1000,\n",
        "    title_text=\"Metrics Over Epochs\",\n",
        "    showlegend=False,\n",
        "    margin=dict(l=50, r=50, t=80, b=50)\n",
        ")\n",
        "\n",
        "# Show the plot\n",
        "fig.show()"
      ],
      "metadata": {
        "id": "aIhQDsvH9lOA"
      },
      "execution_count": null,
      "outputs": []
    },
    {
      "cell_type": "markdown",
      "source": [
        "---"
      ],
      "metadata": {
        "id": "dRa7ndDj19tx"
      }
    },
    {
      "cell_type": "markdown",
      "source": [
        "### Final considerations"
      ],
      "metadata": {
        "id": "aoyAW6eA2AZQ"
      }
    },
    {
      "cell_type": "markdown",
      "source": [
        "As noted in the original snnTorch code, outputting the accuracy rate in this SNN model for detecting exoplanets using light curve data may not be as useful.\n",
        "\n",
        "We saw that the dataset is highly imbalanced, with a majority of examples belonging to non-exoplanets and only a few examples belonging to  exoplanets. In such cases, even a naive classifier that always predicts the majority class can achieve high accuracy. Therefore, accuracy alone may not provide a meaningful evaluation of the model's performance.\n",
        "\n",
        "Another thing to keep in mind is that this model don't execute temporal processing, which can be interesting for spectral data.\n",
        "\n",
        "Coming up, I intend to recreate this model to instead of processing the data in batches, explore the temporal processing of a SNN model."
      ],
      "metadata": {
        "id": "rcnM4r_X2H1H"
      }
    }
  ]
}